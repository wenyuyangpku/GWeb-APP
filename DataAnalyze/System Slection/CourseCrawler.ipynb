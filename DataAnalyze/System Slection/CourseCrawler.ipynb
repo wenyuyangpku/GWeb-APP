{
 "cells": [
  {
   "cell_type": "code",
   "execution_count": 1,
   "metadata": {},
   "outputs": [
    {
     "name": "stdout",
     "output_type": "stream",
     "text": [
      "b'\\n<html>\\n<head>\\n<meta http-equiv=\"refresh\" content=\"0;url=/PRODCartridge/twbkwbis.P_GenMenu?name=bmenu.P_MainMnu&amp;msg=WELCOME+<I><b>Welcome,+Wenyu+Yang,+to+the+WWW+Information+System!<%2Fb><%2FI>10%2F01%2F1801%3A08+pm\">\\n</head>\\n</html>\\n'\n"
     ]
    }
   ],
   "source": [
    "import requests\n",
    "from bs4 import BeautifulSoup\n",
    "login_url='https://banweb.gwu.edu/PRODCartridge/twbkwbis.P_ValLogin'\n",
    "c=requests.session()\n",
    "login_data=dict(sid='G30966060',PIN='718265')\n",
    "c.get('https://banweb.gwu.edu/PRODCartridge/twbkwbis.P_WWWLogin')\n",
    "login_header={'Referer':'https://banweb.gwu.edu/PRODCartridge/twbkwbis.P_WWWLogin'}\n",
    "l=c.post(login_url,data=login_data,headers=login_header)\n",
    "login_page=c.get('https://banweb.gwu.edu/PRODCartridge/twbkwbis.P_GenMenu?name=bmenu.P_MainMnu&msg=WELCOME+%3CI%3E%3Cb%3EWelcome,+Wenyu+Yang,+to+the+WWW+Information+System!%3C%2Fb%3E%3C%2FI%3E09%2F29%2F1806%3A37+pm')\n",
    "print(l.content)\n",
    "login_page=c.get('https://banweb.gwu.edu/PRODCartridge/twbkwbis.P_GenMenu?name=bmenu.P_MainMnu&msg=WELCOME+%3CI%3E%3Cb%3EWelcome,+Wenyu+Yang,+to+the+WWW+Information+System!%3C%2Fb%3E%3C%2FI%3E09%2F29%2F1806%3A37+pm')\n",
    "page1=c.get('https://banweb.gwu.edu/PRODCartridge/twbkwbis.P_GenMenu?name=bmenu.P_StuMainMnu')\n",
    "page2=c.get('https://banweb.gwu.edu/PRODCartridge/twbkwbis.P_GenMenu?name=bmenu.P_RegMnu')\n",
    "page3=c.get('https://banweb.gwu.edu/PRODCartridge/bwskfcls.P_CrseSearch?term_in=',headers={'Referer': 'https://banweb.gwu.edu/PRODCartridge/twbkwbis.P_GenMenu?name=bmenu.P_RegMnu'})\n",
    "select_url='https://banweb.gwu.edu/PRODCartridge/bwckgens.p_proc_term_date'\n",
    "select_data=dict(p_calling_proc='P_CrseSearch',p_term='201803')\n",
    "select_header={'Referer':'https://banweb.gwu.edu/PRODCartridge/bwskfcls.P_CrseSearch?term_in='}\n",
    "l=c.post(select_url,data=select_data,headers=select_header)"
   ]
  },
  {
   "cell_type": "code",
   "execution_count": 2,
   "metadata": {},
   "outputs": [],
   "source": [
    "Course_data=dict(rsts='dummy',crn='dummy',term_in='201803',sel_subj=['dummy','ANTH'],sel_day='dummy',\n",
    "         sel_schd='dummy',sel_insm='dummy',sel_camp='dummy',sel_levl='dummy',sel_sess='dummy',\n",
    "         sel_instr='dummy',sel_ptrm=['dummy','%'],sel_attr='dummy',sel_crse=\"\",sel_title=\"\",sel_from_cred=\"\",\n",
    "         sel_to_cred=\"\",begin_hh='0',begin_mi='0',end_hh='0',\n",
    "         end_mi='0',begin_ap='x',end_ap='y',path='1',SUB_BTN=\"Course Search\")"
   ]
  },
  {
   "cell_type": "code",
   "execution_count": 3,
   "metadata": {},
   "outputs": [],
   "source": [
    "Course_url='https://banweb.gwu.edu/PRODCartridge/bwskfcls.P_GetCrse'\n",
    "Course_header={'Referer':'https://banweb.gwu.edu/PRODCartridge/bwckgens.p_proc_term_date'}"
   ]
  },
  {
   "cell_type": "code",
   "execution_count": 4,
   "metadata": {},
   "outputs": [],
   "source": [
    "import pandas as pd\n",
    "df=pd.read_csv('CourseNumber.csv')"
   ]
  },
  {
   "cell_type": "code",
   "execution_count": 15,
   "metadata": {
    "scrolled": true
   },
   "outputs": [],
   "source": [
    "for i in range(171):\n",
    "    selsub=df.iloc[i,0]\n",
    "    Course_data['sel_subj']=['dummy',selsub]\n",
    "    ll=c.post(Course_url,data=Course_data,headers=Course_header)\n",
    "    View_url='https://banweb.gwu.edu/PRODCartridge/bwskfcls.P_GetCrse'\n",
    "    View_data=dict(rsts='dummy',crn='dummy',term_in='201803',sel_subj=['dummy',selsub],sel_day='dummy',\n",
    "         sel_schd='dummy',sel_insm='dummy',sel_camp='dummy',sel_levl='dummy',sel_sess='dummy',\n",
    "         sel_instr='dummy',sel_ptrm=['dummy','%'],sel_attr='dummy',sel_crse=\"\",sel_title=\"\",sel_from_cred=\"\",\n",
    "         sel_to_cred=\"\",begin_hh='0',begin_mi='0',end_hh='0',\n",
    "         end_mi='0',begin_ap='x',end_ap='y',path='1',SUB_BTN=\"View Search\")\n",
    "    View_header={'Referer':'https://banweb.gwu.edu/PRODCartridge/bwskfcls.P_GetCrse'}\n",
    "    ll=c.post(View_url,data=View_data,headers=View_header)\n",
    "    sp=BeautifulSoup(ll.content,'lxml')\n",
    "    d=open('.\\\\ss\\\\'+str(selsub)+'.html','w',encoding='utf-8')\n",
    "    d.write(str(sp.contents))\n",
    "    d.close()\n",
    "    \n",
    "#     sp=BeautifulSoup(ll.content,\"lxml\")\n",
    "#     out=sp.find_all('input')\n",
    "#     for inputout in out:        \n",
    "#         if(\"SEL_CRSE\" in str(inputout)):\n",
    "#             ss=str(selsub)+str(inputout)\n",
    "#             ss=ss.replace(\"<input name=\\\"SEL_CRSE\\\" type=\\\"hidden\\\" value=\\\"\",\"\\t\")\n",
    "#             ss=ss.replace(\"\\\"/>\",\"\")\n",
    "#             sstr=ss.split()\n",
    "    "
   ]
  },
  {
   "cell_type": "code",
   "execution_count": 104,
   "metadata": {},
   "outputs": [],
   "source": [
    "import re"
   ]
  },
  {
   "cell_type": "code",
   "execution_count": 105,
   "metadata": {},
   "outputs": [],
   "source": [
    "Course_data['sel_subj']=['dummy',s]"
   ]
  },
  {
   "cell_type": "code",
   "execution_count": 106,
   "metadata": {},
   "outputs": [
    {
     "data": {
      "text/html": [
       "<div>\n",
       "<style scoped>\n",
       "    .dataframe tbody tr th:only-of-type {\n",
       "        vertical-align: middle;\n",
       "    }\n",
       "\n",
       "    .dataframe tbody tr th {\n",
       "        vertical-align: top;\n",
       "    }\n",
       "\n",
       "    .dataframe thead th {\n",
       "        text-align: right;\n",
       "    }\n",
       "</style>\n",
       "<table border=\"1\" class=\"dataframe\">\n",
       "  <thead>\n",
       "    <tr style=\"text-align: right;\">\n",
       "      <th></th>\n",
       "      <th>Course</th>\n",
       "      <th>Number</th>\n",
       "    </tr>\n",
       "  </thead>\n",
       "  <tbody>\n",
       "  </tbody>\n",
       "</table>\n",
       "</div>"
      ],
      "text/plain": [
       "Empty DataFrame\n",
       "Columns: [Course, Number]\n",
       "Index: []"
      ]
     },
     "execution_count": 106,
     "metadata": {},
     "output_type": "execute_result"
    }
   ],
   "source": [
    "alldf"
   ]
  },
  {
   "cell_type": "code",
   "execution_count": null,
   "metadata": {},
   "outputs": [],
   "source": []
  }
 ],
 "metadata": {
  "kernelspec": {
   "display_name": "Python 3",
   "language": "python",
   "name": "python3"
  },
  "language_info": {
   "codemirror_mode": {
    "name": "ipython",
    "version": 3
   },
   "file_extension": ".py",
   "mimetype": "text/x-python",
   "name": "python",
   "nbconvert_exporter": "python",
   "pygments_lexer": "ipython3",
   "version": "3.7.0"
  }
 },
 "nbformat": 4,
 "nbformat_minor": 2
}
