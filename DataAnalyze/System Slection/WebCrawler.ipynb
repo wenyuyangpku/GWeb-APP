{
 "cells": [
  {
   "cell_type": "code",
   "execution_count": 19,
   "metadata": {},
   "outputs": [],
   "source": [
    "import requests\n",
    "from bs4 import BeautifulSoup"
   ]
  },
  {
   "cell_type": "code",
   "execution_count": 20,
   "metadata": {},
   "outputs": [],
   "source": [
    "login_url='https://banweb.gwu.edu/PRODCartridge/twbkwbis.P_ValLogin'"
   ]
  },
  {
   "cell_type": "code",
   "execution_count": 21,
   "metadata": {},
   "outputs": [],
   "source": [
    "c=requests.session()"
   ]
  },
  {
   "cell_type": "code",
   "execution_count": 22,
   "metadata": {},
   "outputs": [],
   "source": [
    "login_data=dict(sid='G30966060',PIN='718265')"
   ]
  },
  {
   "cell_type": "code",
   "execution_count": 23,
   "metadata": {},
   "outputs": [
    {
     "data": {
      "text/plain": [
       "<Response [200]>"
      ]
     },
     "execution_count": 23,
     "metadata": {},
     "output_type": "execute_result"
    }
   ],
   "source": [
    "c.get('https://banweb.gwu.edu/PRODCartridge/twbkwbis.P_WWWLogin')"
   ]
  },
  {
   "cell_type": "code",
   "execution_count": 24,
   "metadata": {},
   "outputs": [],
   "source": [
    "login_header={'Referer':'https://banweb.gwu.edu/PRODCartridge/twbkwbis.P_WWWLogin'}"
   ]
  },
  {
   "cell_type": "code",
   "execution_count": 26,
   "metadata": {},
   "outputs": [
    {
     "name": "stdout",
     "output_type": "stream",
     "text": [
      "b'\\n<html>\\n<head>\\n<meta http-equiv=\"refresh\" content=\"0;url=/PRODCartridge/twbkwbis.P_GenMenu?name=bmenu.P_MainMnu&amp;msg=WELCOME+<I><b>Welcome,+Wenyu+Yang,+to+the+WWW+Information+System!<%2Fb><%2FI>10%2F29%2F1801%3A32+pm\">\\n</head>\\n</html>\\n'\n"
     ]
    }
   ],
   "source": [
    "l=c.post(login_url,data=login_data,headers=login_header)\n",
    "print(l.content)"
   ]
  },
  {
   "cell_type": "code",
   "execution_count": 17,
   "metadata": {},
   "outputs": [],
   "source": [
    "login_page=c.get('https://banweb.gwu.edu/PRODCartridge/twbkwbis.P_GenMenu?name=bmenu.P_MainMnu&msg=WELCOME+%3CI%3E%3Cb%3EWelcome,+Wenyu+Yang,+to+the+WWW+Information+System!%3C%2Fb%3E%3C%2FI%3E09%2F29%2F1806%3A37+pm')"
   ]
  },
  {
   "cell_type": "code",
   "execution_count": 18,
   "metadata": {},
   "outputs": [
    {
     "name": "stdout",
     "output_type": "stream",
     "text": [
      "b'<!DOCTYPE HTML PUBLIC \"-//W3C//DTD HTML 4.01 Transitional//EN\" \"http://www.w3.org/TR/html4/transitional.dtd\">\\n<HTML lang=\"en\">\\n<head>\\n<META http-equiv=\"Content-Type\" content=\"text/html; charset=UTF-8\">\\n<LINK REL=\"stylesheet\" HREF=\"/css/web_defaultapp.css\" TYPE=\"text/css\">\\n<LINK REL=\"stylesheet\" HREF=\"/css/web_defaultprint.css\" TYPE=\"text/css\" media=\"print\">\\n<title>Banner Secured Area</title>\\n<meta http-equiv=\"Content-Script-Type\" name=\"Default_Script_Language\" content=\"text/javascript\">\\n<SCRIPT LANGUAGE=\"JavaScript\" TYPE=\"text/javascript\">\\n<!-- Hide JavaScript from older browsers \\nwindow.onunload = function() {submitcount=0;}\\nvar submitcount=0;\\nfunction checkSubmit() {\\nif (submitcount == 0)\\n   {\\n   submitcount++;\\n   return true;\\n   }\\nelse\\n   {\\nalert(\"Your changes have already been submitted.\");\\n   return false;\\n   }\\n}\\n//  End script hiding -->\\n</SCRIPT>\\n<SCRIPT LANGUAGE=\"JavaScript\" TYPE=\"text/javascript\">\\n<!-- Hide JavaScript from older browsers \\n//  Function to open a window\\nfunction windowOpen(window_url) {\\n   helpWin = window.open(window_url,\\'\\',\\'toolbar=yes,status=no,scrollbars=yes,menubar=yes,resizable=yes,directories=no,location=no,width=350,height=400\\');\\n   if (document.images) { \\n       if (helpWin) helpWin.focus()\\n   }\\n}\\n//  End script hiding -->\\n</SCRIPT>\\n</head>\\n<body  onload = \"document.loginform.UserID.focus()\" >\\n<div id=\"headerImage\">\\n<img src=\"/imag_images/gweb_is_2.gif\" CLASS=\"headerImg\" TITLE=\"\"  NAME=\"IMAG - GWeb Information System\" HSPACE=0 VSPACE=0 BORDER=0 />\\n</div>\\n<div class=\"headerwrapperdiv\">\\n<div class=\"pageheaderdiv1\">\\n<a href=\"#main_content\" onMouseover=\"window.status=\\'Go to Main Content\\'; return true\" onMouseout=\"window.status=\\'\\'; return true\" OnFocus=\"window.status=\\'Go to Main Content\\'; return true\" onBlur=\"window.status=\\'\\'; return true\" class=\"skiplinks\">Go to Main Content</a>\\n<h1>   </h1></DIV><div class=\"headerlinksdiv\">\\n</DIV>\\n<table  CLASS=\"plaintable\" SUMMARY=\"This table displays Menu Items and Banner Search textbox.\"\\n         WIDTH=\"100%\">\\n<tr>\\n<TD CLASS=\"pldefault\">\\n<div class=\"headerlinksdiv2\">\\n&nbsp;\\n</div>\\n</TD>\\n<TD CLASS=\"pldefault\"><p class=\"rightaligntext\"></p>\\n<SPAN class=\"pageheaderlinks\">\\n<a href=\"/gwuhelp/GWU_hwgholgi.htm\" accesskey=\"H\" onClick=\"popup = window.open(\\'/gwuhelp/GWU_hwgholgi.htm\\', \\'PopupPage\\',\\'height=500,width=450,scrollbars=yes,resizable=yes\\'); return false\" target=\"_blank\" onMouseOver=\"window.status=\\'\\';  return true\" onMouseOut=\"window.status=\\'\\'; return true\"onFocus=\"window.status=\\'\\';  return true\" onBlur=\"window.status=\\'\\'; return true\"  class=\"submenulinktext2\">HELP</a>\\n|\\n<a href=\"twbkwbis.P_Logout\" accesskey=\"3\" class=\"submenulinktext2\">EXIT</a>\\n</span>\\n</TD>\\n</tr>\\n</table>\\n</DIV>\\n<div class=\"pagetitlediv\">\\n<table  CLASS=\"plaintable\" SUMMARY=\"This table displays title and static header displays.\"\\n   WIDTH=\"100%\">\\n<tr>\\n<TD CLASS=\"pldefault\">\\n<h2><B CLASS=imag_header>User Login</B></h2>\\n</TD>\\n<TD CLASS=\"pldefault\">\\n&nbsp;\\n</TD>\\n<TD CLASS=\"pldefault\"><p class=\"rightaligntext\"></p>\\n<div class=\"staticheaders\">\\n</div>\\n</TD>\\n</tr>\\n<tr>\\n<TD class=\"bg3\" width=\"100%\" colSpan=3><img src=\"/wtlgifs/web_transparent.gif\" alt=\"Transparent Image\" CLASS=\"headerImg\" TITLE=\"Transparent Image\"  NAME=\"web_transparent\" HSPACE=0 VSPACE=0 BORDER=0 HEIGHT=3 WIDTH=10 /></TD>\\n</tr>\\n</table>\\n<a name=\"main_content\"></a>\\n</DIV>\\n<div class=\"pagebodydiv\">\\n<!--  ** END OF twbkwbis.P_OpenDoc **  -->\\n<div class=\"infotextdiv\"><table  CLASS=\"infotexttable\" SUMMARY=\"This layout table contains information that may be helpful in understanding the content and functionality of this page.  It could be a brief set of instructions, a description of error messages, or other special information.\"><tr><td CLASS=\"indefault\"><img src=\"/wtlgifs/twgginfo.gif\" CLASS=\"headerImg\" TITLE=\"\"  NAME=\"Info\" HSPACE=0 VSPACE=0 BORDER=0 HEIGHT=24 WIDTH=27 /></td><td CLASS=\"indefault\"><SPAN class=\"infotext\"> <p>Your <b>User ID</b> for this system is your <b>GWID</b>. Your <a href=\"http://go.gwu.edu/gwid\" onClick=\"popup = window.open(\\'http://go.gwu.edu/gwid\\', \\'PopupPage\\',\\'height=525,width=820,scrollbars=yes,resizable=yes\\'); return false\" target=\"_blank\">GWID</a> is the <b> Uppercase </b> letter G followed by an 8 digit number. To retrieve your GWID, please visit <a href=\"http://go.gwu.edu/gwid\" onClick=\"popup = window.open(\\'http://go.gwu.edu/gwid\\', \\'PopupPage\\',\\'height=525,width=820,scrollbars=yes,resizable=yes\\'); return false\" target=\"_blank\">http://go.gwu.edu/gwid</a>.</p></SPAN></td></tr></table><p></DIV>\\n<form action=\"/PRODCartridge/twbkwbis.P_ValLogin\" method=\"post\" NAME=\"loginform\" AUTOCOMPLETE=\"OFF\">\\n<table  CLASS=\"dataentrytable\" SUMMARY=\"This data entry table is used to format the user login fields\">\\n<tr>\\n<td CLASS=\"delabel\" scope=\"row\" ><LABEL for=UserID><SPAN class=\"fieldlabeltext\">User ID:</SPAN></LABEL></td>\\n<td CLASS=\"dedefault\"><input type=\"text\" name=\"sid\" size=\"11\" maxlength=\"9\" ID=\"UserID\"  /></td>\\n</tr>\\n<tr>\\n<td CLASS=\"delabel\" scope=\"row\" ><LABEL for=PIN><SPAN class=\"fieldlabeltext\">PIN:</SPAN></LABEL></td>\\n<td CLASS=\"dedefault\"ID=\"PIN\" ><input type=\"password\" name=\"PIN\" size=\"7\" maxlength=\"6\" /></td>\\n</tr>\\n</table>\\n<p>\\n<input type=\"submit\" value=\"Login\" />\\n&nbsp;\\n<input type=\"submit\" name=\"ButtonSelected\" value=\"Forgot PIN?\" />\\n&nbsp;\\n<a href=\"/gwuhelp/GWU_hwgholgi.htm\" onClick=\"popup = window.open(\\'/gwuhelp/GWU_hwgholgi.htm\\', \\'PopupPage\\',\\'height=525,width=820,scrollbars=yes,resizable=yes\\'); return false\" target=\"_blank\" onMouseOver=\"window.status=\\'HELP\\';  return true\"  onMouseOut=\"window.status=\\'\\';  return true\" onFocus=\"window.status=\\'\\';  return true\" onBlur=\"window.status=\\'\\';  return true\">HELP</a>\\n<div class=\"infotextdiv\"><table  CLASS=\"infotexttable\" SUMMARY=\"This layout table contains information that may be helpful in understanding the content and functionality of this page.  It could be a brief set of instructions, a description of error messages, or other special information.\"><tr><td CLASS=\"indefault\"><SPAN class=\"infotext\"> <b>Security Advisory:</b><br><I>The GWeb application enables access to important information related to your role within the university. It is crucial to never share your GW login credentials with anyone. Never respond to e-mails or ads that request your GWID, GW NetID (the portion of your e-mail address before the &ldquo;@&rdquo;), the passwords that correspond to these accounts or any other confidential information. If you are unsure about the validity of a message you receive or a link you see, please forward it to the Division of IT at <a href=\"mailto:abuse@gwu.edu\">abuse@gwu.edu</a>. Learn more about how you can help keep your information and GW secure at <a href=\"http://it.gwu.edu/u-security-video-tutorial\" onClick=\"popup = window.open(\\'http://it.gwu.edu/u-security-video-tutorial\\', \\'PopupPage\\',\\'height=\\'+screen.height+\\', width=\\'+screen.width+\\',scrollbars=yes,resizable=yes\\'); return false\" target=\"_blank\">The U in Security </a> <font color=\"#696969\"> &ndash; A 2-minute training module</font></I></br></SPAN></td></tr></table><p></DIV>\\n</form>\\n<SCRIPT LANGUAGE=\"JavaScript\" TYPE=\"text/javascript\" LANGUAGE=\"JScript\">\\ndocument.loginform.reset();\\n//  End script hiding -->\\n</SCRIPT>\\n\\r\\n<!--  ** START OF twbkwbis.P_CloseDoc **  -->\\n<table  CLASS=\"plaintable\" SUMMARY=\"This is table displays line separator at end of the page.\"\\n                                             WIDTH=\"100%\" cellSpacing=0 cellPadding=0 border=0><tr><TD class=\"bgtabon\" width=\"100%\" colSpan=2><img src=\"/wtlgifs/web_transparent.gif\" alt=\"Transparent Image\" CLASS=\"headerImg\" TITLE=\"Transparent Image\"  NAME=\"web_transparent\" HSPACE=0 VSPACE=0 BORDER=0 HEIGHT=3 WIDTH=10 /></TD></tr></table>\\n<a href=\"#top\" onMouseover=\"window.status=\\'Skip to top of page\\'; return true\" onMouseout=\"window.status=\\'\\'; return true\" OnFocus=\"window.status=\\'Skip to top of page\\'; return true\" onBlur=\"window.status=\\'\\'; return true\" class=\"skiplinks\">Skip to top of page</a>\\n</DIV>\\n<div class=\"footerbeforediv\">\\n\\n</DIV>\\n<div class=\"footerafterdiv\">\\n\\n</DIV>\\n<div class=\"globalafterdiv\">\\n\\n</DIV>\\n<div class=\"globalfooterdiv\">\\n\\n</DIV>\\n<div class=\"pagefooterdiv\">\\n<SPAN class=\"releasetext\">Release: 8.8.2g</SPAN>\\n</DIV>\\n<div class=\"poweredbydiv\">\\n</DIV>\\n<DIV class=\"div1\"></DIV>\\n<DIV class=\"div2\"></DIV>\\n<DIV class=\"div3\"></DIV>\\n<DIV class=\"div4\"></DIV>\\n<DIV class=\"div5\"></DIV>\\n<DIV class=\"div6\"></DIV>\\n<div class=\"banner_copyright\"></div>\\n</body>\\n</html>\\n'\n"
     ]
    }
   ],
   "source": [
    "print(login_page.content)"
   ]
  },
  {
   "cell_type": "code",
   "execution_count": 10,
   "metadata": {},
   "outputs": [],
   "source": [
    "login_page=c.get('https://banweb.gwu.edu/PRODCartridge/twbkwbis.P_GenMenu?name=bmenu.P_MainMnu&msg=WELCOME+%3CI%3E%3Cb%3EWelcome,+Wenyu+Yang,+to+the+WWW+Information+System!%3C%2Fb%3E%3C%2FI%3E09%2F29%2F1806%3A37+pm')"
   ]
  },
  {
   "cell_type": "code",
   "execution_count": 11,
   "metadata": {},
   "outputs": [],
   "source": [
    "page1=c.get('https://banweb.gwu.edu/PRODCartridge/twbkwbis.P_GenMenu?name=bmenu.P_StuMainMnu')"
   ]
  },
  {
   "cell_type": "code",
   "execution_count": 12,
   "metadata": {},
   "outputs": [],
   "source": [
    "page2=c.get('https://banweb.gwu.edu/PRODCartridge/twbkwbis.P_GenMenu?name=bmenu.P_RegMnu')"
   ]
  },
  {
   "cell_type": "code",
   "execution_count": 13,
   "metadata": {},
   "outputs": [],
   "source": [
    "page3=c.get('https://banweb.gwu.edu/PRODCartridge/bwskfreg.P_AddDropCrse',headers={'Referer': 'https://banweb.gwu.edu/PRODCartridge/twbkwbis.P_GenMenu?name=bmenu.P_RegMnu'})"
   ]
  },
  {
   "cell_type": "code",
   "execution_count": 14,
   "metadata": {},
   "outputs": [
    {
     "data": {
      "text/plain": [
       "<RequestsCookieJar[Cookie(version=0, name='NSC_cboxfc_qspe_443', value='ffffffff83ac150f45525d5f4f58455e445a4a422970', port=None, port_specified=False, domain='banweb.gwu.edu', domain_specified=False, domain_initial_dot=False, path='/', path_specified=True, secure=True, expires=None, discard=True, comment=None, comment_url=None, rest={'httponly': None}, rfc2109=False), Cookie(version=0, name='SESSID', value='MzFZS0pJMTAyNDU5MDQ=', port=None, port_specified=False, domain='banweb.gwu.edu', domain_specified=False, domain_initial_dot=False, path='/PRODCartridge', path_specified=False, secure=False, expires=None, discard=True, comment=None, comment_url=None, rest={}, rfc2109=False), Cookie(version=0, name='TESTID', value='set', port=None, port_specified=False, domain='banweb.gwu.edu', domain_specified=False, domain_initial_dot=False, path='/PRODCartridge', path_specified=False, secure=False, expires=None, discard=True, comment=None, comment_url=None, rest={}, rfc2109=False)]>"
      ]
     },
     "execution_count": 14,
     "metadata": {},
     "output_type": "execute_result"
    }
   ],
   "source": [
    "c.cookies"
   ]
  },
  {
   "cell_type": "code",
   "execution_count": 15,
   "metadata": {},
   "outputs": [],
   "source": [
    "select_url='https://banweb.gwu.edu/PRODCartridge/bwskfreg.P_AddDropCrse'"
   ]
  },
  {
   "cell_type": "code",
   "execution_count": 16,
   "metadata": {},
   "outputs": [],
   "source": [
    "select_data=dict(term_in='201803')"
   ]
  },
  {
   "cell_type": "code",
   "execution_count": 17,
   "metadata": {},
   "outputs": [],
   "source": [
    "select_header={'Referer':'https://banweb.gwu.edu/PRODCartridge/bwskfreg.P_AddDropCrs'}"
   ]
  },
  {
   "cell_type": "code",
   "execution_count": 18,
   "metadata": {},
   "outputs": [],
   "source": [
    "l=c.post(select_url,data=select_data,headers=select_header)"
   ]
  },
  {
   "cell_type": "code",
   "execution_count": 19,
   "metadata": {},
   "outputs": [
    {
     "name": "stdout",
     "output_type": "stream",
     "text": [
      "b'<!DOCTYPE HTML PUBLIC \"-//W3C//DTD HTML 4.01 Transitional//EN\" \"http://www.w3.org/TR/html4/transitional.dtd\">\\n<HTML lang=\"en\">\\n<head>\\n<META http-equiv=\"Content-Type\" content=\"text/html; charset=UTF-8\">\\n<LINK REL=\"stylesheet\" HREF=\"/css/web_defaultapp.css\" TYPE=\"text/css\">\\n<LINK REL=\"stylesheet\" HREF=\"/css/web_defaultprint.css\" TYPE=\"text/css\" media=\"print\">\\n<title>Banner Secured Area</title>\\n<meta http-equiv=\"Content-Script-Type\" name=\"Default_Script_Language\" content=\"text/javascript\">\\n<SCRIPT LANGUAGE=\"JavaScript\" TYPE=\"text/javascript\">\\n<!-- Hide JavaScript from older browsers \\nwindow.onunload = function() {submitcount=0;}\\nvar submitcount=0;\\nfunction checkSubmit() {\\nif (submitcount == 0)\\n   {\\n   submitcount++;\\n   return true;\\n   }\\nelse\\n   {\\nalert(\"Your changes have already been submitted.\");\\n   return false;\\n   }\\n}\\n//  End script hiding -->\\n</SCRIPT>\\n<SCRIPT LANGUAGE=\"JavaScript\" TYPE=\"text/javascript\">\\n<!-- Hide JavaScript from older browsers \\n//  Function to open a window\\nfunction windowOpen(window_url) {\\n   helpWin = window.open(window_url,\\'\\',\\'toolbar=yes,status=no,scrollbars=yes,menubar=yes,resizable=yes,directories=no,location=no,width=350,height=400\\');\\n   if (document.images) { \\n       if (helpWin) helpWin.focus()\\n   }\\n}\\n//  End script hiding -->\\n</SCRIPT>\\n</head>\\n<body>\\n<div id=\"headerImage\">\\n<img src=\"/imag_images/gweb_is_2.gif\" CLASS=\"headerImg\" TITLE=\"\"  NAME=\"IMAG - GWeb Information System\" HSPACE=0 VSPACE=0 BORDER=0 />\\n</div>\\n<div class=\"headerwrapperdiv\">\\n<div class=\"pageheaderdiv1\">\\n<a href=\"#main_content\" onMouseover=\"window.status=\\'Go to Main Content\\'; return true\" onMouseout=\"window.status=\\'\\'; return true\" OnFocus=\"window.status=\\'Go to Main Content\\'; return true\" onBlur=\"window.status=\\'\\'; return true\" class=\"skiplinks\">Go to Main Content</a>\\n<h1>   </h1></DIV><div class=\"headerlinksdiv\">\\n<SPAN class=\"pageheaderlinks2\">\\n<map name=\"Module_Navigation_Links_H\" title=\"Module Navigation Links\">\\n<p>\\n<a href=\"#skip_Module_Navigation_Links_H\" onMouseover=\"window.status=\\'Skip Module Navigation Links\\'; return true\" onMouseout=\"window.status=\\'\\'; return true\" onFocus=\"window.status=\\'Skip Module Navigation Links\\'; return true\" onBlur=\"window.status=\\'\\'; return true\"  class=\"skiplinks\">Skip Module Navigation Links</a>\\n<table  CLASS=\"plaintable\" SUMMARY=\"This is main table for displaying Tab Items.\"\\n                          WIDTH=\"100%\" cellSpacing=0 cellPadding=0 border=0>\\n<tr>\\n<TD CLASS=\"pldefault\">\\n<table  CLASS=\"plaintable\" SUMMARY=\"This table displays Tab Items.\"\\n                 cellSpacing=0 cellPadding=0 border=0>\\n<tr>\\n<td class=\"tabon\"  height=22>\\n<a href=\"/PRODCartridge/twbkwbis.P_GenMenu?name=bmenu.P_StuMainMnu\" onMouseover=\"window.status=\\'Student Services & Financial Aid\\'; return true\" onMouseout=\"window.status=\\'\\'; return true\" onFocus=\"window.status=\\'Student Services & Financial Aid\\'; return true\" onBlur=\"window.status=\\'\\'; return true\" >Student Records & Registration Menu</a>\\n</TD>\\n<TD class=\"bgtabon\"  height=22 vAlign=\"top\" align=\"right\">\\n<img src=\"/wtlgifs/web_tab_corner_right.gif\" alt=\"Tab Corner Right\" CLASS=\"headerImg\" TITLE=\"Tab Corner Right\"  NAME=\"web_tab_corner_right\" HSPACE=0 VSPACE=0 BORDER=0 HEIGHT=20 WIDTH=8 />\\n</TD>\\n<td class=\"taboff\" height=22>\\n<a href=\"/PRODCartridge/twbkwbis.P_GenMenu?name=bmenu.P_GenMnu\" onMouseover=\"window.status=\\'Personal Information\\'; return true\" onMouseout=\"window.status=\\'\\'; return true\" onFocus=\"window.status=\\'Personal Information\\'; return true\" onBlur=\"window.status=\\'\\'; return true\" >Personal Information Menu</a>\\n</TD>\\n<TD class=\"bgtaboff\" height=22 vAlign=\"top\" align=\"right\">\\n<img src=\"/wtlgifs/web_tab_corner_right.gif\" alt=\"Tab Corner Right\" CLASS=\"headerImg\" TITLE=\"Tab Corner Right\"  NAME=\"web_tab_corner_right\" HSPACE=0 VSPACE=0 BORDER=0 HEIGHT=20 WIDTH=8 />\\n</TD>\\n<td class=\"taboff\" height=22>\\n<a href=\"/PRODCartridge/twbkwbis.P_GenMenu?name=bmenu.P_EmergencyMenu\" onMouseover=\"window.status=\\'GW Alert Emergency Notification\\'; return true\" onMouseout=\"window.status=\\'\\'; return true\" onFocus=\"window.status=\\'GW Alert Emergency Notification\\'; return true\" onBlur=\"window.status=\\'\\'; return true\" >GW Alert Login Portal</a>\\n</TD>\\n<TD class=\"bgtaboff\" height=22 vAlign=\"top\" align=\"right\">\\n<img src=\"/wtlgifs/web_tab_corner_right.gif\" alt=\"Tab Corner Right\" CLASS=\"headerImg\" TITLE=\"Tab Corner Right\"  NAME=\"web_tab_corner_right\" HSPACE=0 VSPACE=0 BORDER=0 HEIGHT=20 WIDTH=8 />\\n</TD>\\n</tr>\\n</table>\\n</TD>\\n</tr>\\n<tr>\\n<TD class=\"bgtabon\" width=\"100%\" colSpan=2><img src=\"/wtlgifs/web_transparent.gif\" alt=\"Transparent Image\" CLASS=\"headerImg\" TITLE=\"Transparent Image\"  NAME=\"web_transparent\" HSPACE=0 VSPACE=0 BORDER=0 HEIGHT=3 WIDTH=10 /></TD></tr></table>\\n</map>\\n</SPAN>\\n<a name=\"skip_Module_Navigation_Links_H\"></a>\\n</DIV>\\n<table  CLASS=\"plaintable\" SUMMARY=\"This table displays Menu Items and Banner Search textbox.\"\\n         WIDTH=\"100%\">\\n<tr>\\n<TD CLASS=\"pldefault\">\\n<div class=\"headerlinksdiv2\">\\n<form action=\"/PRODCartridge/twbksrch.P_ShowResults\" method=\"post\">\\nSearch\\n<SPAN class=\"fieldlabeltextinvisible\"><LABEL for=keyword_in_id><SPAN class=\"fieldlabeltext\">Search</SPAN></LABEL></SPAN>\\n<input type=\"text\" name=\"KEYWRD_IN\" size=\"20\" maxlength=\"65\" ID=\"keyword_in_id\" />\\n<input type=\"submit\" value=\"Go\" />\\n</form>\\n</div>\\n</TD>\\n<TD CLASS=\"pldefault\"><p class=\"rightaligntext\"></p>\\n<SPAN class=\"pageheaderlinks\">\\n<a href=\"/PRODCartridge/twbkwbis.P_GenMenu?name=bmenu.P_RegMnu\"  class=\"submenulinktext2\" id=\"ssbbackurl\">RETURN TO MENU</a>\\n|\\n<a href=\"/PRODCartridge/twbksite.P_DispSiteMap?menu_name_in=bmenu.P_MainMnu&amp;depth_in=2&amp;columns_in=3\" accesskey=\"2\" class=\"submenulinktext2\">SITE MAP</a>\\n|\\n<a href=\"/stuhelp/hwshfadd.htm                       \" accesskey=\"H\" onClick=\"popup = window.open(\\'/stuhelp/hwshfadd.htm                       \\', \\'PopupPage\\',\\'height=500,width=450,scrollbars=yes,resizable=yes\\'); return false\" target=\"_blank\" onMouseOver=\"window.status=\\'\\';  return true\" onMouseOut=\"window.status=\\'\\'; return true\"onFocus=\"window.status=\\'\\';  return true\" onBlur=\"window.status=\\'\\'; return true\"  class=\"submenulinktext2\">HELP</a>\\n|\\n<a href=\"twbkwbis.P_Logout\" accesskey=\"3\" class=\"submenulinktext2\">EXIT</a>\\n</span>\\n</TD>\\n</tr>\\n</table>\\n</DIV>\\n<div class=\"pagetitlediv\">\\n<table  CLASS=\"plaintable\" SUMMARY=\"This table displays title and static header displays.\"\\n   WIDTH=\"100%\">\\n<tr>\\n<TD CLASS=\"pldefault\">\\n<h2><B CLASS=imag_header>Add/Drop Classes: </B></h2>\\n</TD>\\n<TD CLASS=\"pldefault\">\\n&nbsp;\\n</TD>\\n<TD CLASS=\"pldefault\"><p class=\"rightaligntext\"></p>\\n<div class=\"staticheaders\">\\nFall 2018<br>\\n10/29/18 03:16 am<br>\\n</div>\\n</TD>\\n</tr>\\n<tr>\\n<TD class=\"bg3\" width=\"100%\" colSpan=3><img src=\"/wtlgifs/web_transparent.gif\" alt=\"Transparent Image\" CLASS=\"headerImg\" TITLE=\"Transparent Image\"  NAME=\"web_transparent\" HSPACE=0 VSPACE=0 BORDER=0 HEIGHT=3 WIDTH=10 /></TD>\\n</tr>\\n</table>\\n<a name=\"main_content\"></a>\\n</DIV>\\n<div class=\"pagebodydiv\">\\n<!--  ** END OF twbkwbis.P_OpenDoc **  -->\\n<br />\\n<form action=\"/PRODCartridge/bwckcoms.P_Regs\" method=\"post\" onSubmit=\"return checkSubmit()\">\\n<div class=\"infotextdiv\"><table  CLASS=\"infotexttable\" SUMMARY=\"This layout table contains information that may be helpful in understanding the content and functionality of this page.  It could be a brief set of instructions, a description of error messages, or other special information.\"><tr><td CLASS=\"indefault\"><img src=\"/wtlgifs/twgginfo.gif\" CLASS=\"headerImg\" TITLE=\"\"  NAME=\"Info\" HSPACE=0 VSPACE=0 BORDER=0 HEIGHT=24 WIDTH=27 /></td><td CLASS=\"indefault\"><SPAN class=\"infotext\"> <P><i>This page is used to add or drop classes for the selected term. If you have already registered for the term those classes will appear in the Current Schedule section. Additional classes may be added in the Add Class table. To add a class enter the Course Reference Number (CRN) in the Add Class table. Classes may be dropped by using the options available in the Action field. If no options are listed in the Action field then the class may not be dropped. When add/drops are complete press the Submit Changes button.</i></P>\\r\\n<P><i>If you are unsure of which classes you wish to add press the Class Search button to review the class schedule.</i></P>\\r\\n<b><P>There is a financial penalty for dropping a course starting the first day of the semester, unless you also register for an equal or greater number of credits or if you still qualify for a fixed tuition rate.</b></P>\\r\\n<P><b>Please note that DROPPING a class will remove it from your registration and transcript, while WITHDRAWING from a class will result in a \\'W\\' on your transcript. There is no refund for withdrawing from a class.</b></P>\\r\\n\\r\\n<!--Use this interface to add or drop classes for the selected term.  If you have already registered for the term, those classes will appear in the Class Registered Successfully section. Additional classes may be added in the Add Class table.--> <!--To add a class enter the Course Reference Number (CRN) in the Add Class table. Classes may be dropped by using the options available in the Action field.  If no options are listed in the Action field then the class may not be dropped.--> <!--When add/drops are complete click Submit Changes.<p>If you are unsure of which classes to add, click Class Search to review the class schedule.--> <SCRIPT SRC=\\'/gwuscripts/waitlistRegAddError\\'></SCRIPT></SPAN></td></tr></table><p></DIV>\\n<input type=\"hidden\" name=\"term_in\" value=\"201803\" />\\n<input type=\"hidden\" name=\"RSTS_IN\" value=\"DUMMY\" />\\n<input type=\"hidden\" name=\"assoc_term_in\" value=\"DUMMY\" />\\n<input type=\"hidden\" name=\"CRN_IN\" value=\"DUMMY\" />\\n<input type=\"hidden\" name=\"start_date_in\" value=\"DUMMY\" />\\n<input type=\"hidden\" name=\"end_date_in\" value=\"DUMMY\" />\\n<input type=\"hidden\" name=\"SUBJ\" value=\"DUMMY\" />\\n<input type=\"hidden\" name=\"CRSE\" value=\"DUMMY\" />\\n<input type=\"hidden\" name=\"SEC\" value=\"DUMMY\" />\\n<input type=\"hidden\" name=\"LEVL\" value=\"DUMMY\" />\\n<input type=\"hidden\" name=\"CRED\" value=\"DUMMY\" />\\n<input type=\"hidden\" name=\"GMOD\" value=\"DUMMY\" />\\n<input type=\"hidden\" name=\"TITLE\" value=\"DUMMY\" />\\n<input type=\"hidden\" name=\"MESG\" value=\"DUMMY\" />\\n<input type=\"hidden\" name=\"REG_BTN\" value=\"DUMMY\" />\\n<h3>Current Schedule</h3>\\n<table  CLASS=\"datadisplaytable\" SUMMARY=\"Current Schedule\">\\n<tr>\\n<th CLASS=\"ddheader\" scope=\"col\" >Status</th>\\n<th CLASS=\"ddheader\" scope=\"col\" >Action</th>\\n<th CLASS=\"ddheader\" scope=\"col\" ><ACRONYM title = \"Course Reference Number\">CRN</ACRONYM></th>\\n<th CLASS=\"ddheader\" scope=\"col\" ><ABBR title = Subject>Subj</ABBR></th>\\n<th CLASS=\"ddheader\" scope=\"col\" ><ABBR title = Course>Crse</ABBR></th>\\n<th CLASS=\"ddheader\" scope=\"col\" ><ABBR title = Section>Sec</ABBR></th>\\n<th CLASS=\"ddheader\" scope=\"col\" >Level</th>\\n<th CLASS=\"ddheader\" scope=\"col\" ><ABBR title = \"Credit Hours\">Cred</ABBR></th>\\n<th CLASS=\"ddheader\" scope=\"col\" >Grade Mode</th>\\n<th CLASS=\"ddheader\" scope=\"col\" >Title</th>\\n</tr>\\n<tr>\\n<td CLASS=\"dddefault\"><input type=\"hidden\" name=\"MESG\" value=\"DUMMY\" />**Web Registered** on 07/15/18</td>\\n<TD CLASS=\"dddefault\">\\n<LABEL for=action_id1><SPAN class=\"fieldlabeltextinvisible\">Action</SPAN></LABEL>\\n<select name=\"RSTS_IN\" size=\"1\" ID=\"action_id1\">\\n<OPTION VALUE=\"\" SELECTED>None</OPTION>\\n<OPTION VALUE=\"WW\">*Web Withdrawal*</OPTION>\\n</select>\\n</TD>\\n<td CLASS=\"dddefault\"><input type=\"hidden\" name=\"assoc_term_in\" value=\"201803\" /><input type=\"hidden\" name=\"CRN_IN\" value=\"26828\" />26828<input type=\"hidden\" name=\"start_date_in\" value=\"08/27/2018\" /><input type=\"hidden\" name=\"end_date_in\" value=\"12/10/2018\" /></td>\\n<td CLASS=\"dddefault\"><input type=\"hidden\" name=\"SUBJ\" value=\"CSCI\" />CSCI</td>\\n<td CLASS=\"dddefault\"><input type=\"hidden\" name=\"CRSE\" value=\"6010\" />6010</td>\\n<td CLASS=\"dddefault\"><input type=\"hidden\" name=\"SEC\" value=\"12\" />12</td>\\n<td CLASS=\"dddefault\"><input type=\"hidden\" name=\"LEVL\" value=\"Graduate\" />Graduate</td>\\n<td CLASS=\"dddefault\"><input type=\"hidden\" name=\"CRED\" value=\"    3.000\" />    3.000</td>\\n<td CLASS=\"dddefault\"><input type=\"hidden\" name=\"GMOD\" value=\"Letter Grade\" />Letter Grade</td>\\n<td CLASS=\"dddefault\"><input type=\"hidden\" name=\"TITLE\" value=\"Intro to CS Fundamentals\" />Intro to CS Fundamentals</td>\\n</tr>\\n<tr>\\n<td CLASS=\"dddefault\"><input type=\"hidden\" name=\"MESG\" value=\"DUMMY\" />**Web Registered** on 07/15/18</td>\\n<TD CLASS=\"dddefault\">\\n<LABEL for=action_id2><SPAN class=\"fieldlabeltextinvisible\">Action</SPAN></LABEL>\\n<select name=\"RSTS_IN\" size=\"1\" ID=\"action_id2\">\\n<OPTION VALUE=\"\" SELECTED>None</OPTION>\\n<OPTION VALUE=\"WW\">*Web Withdrawal*</OPTION>\\n</select>\\n</TD>\\n<td CLASS=\"dddefault\"><input type=\"hidden\" name=\"assoc_term_in\" value=\"201803\" /><input type=\"hidden\" name=\"CRN_IN\" value=\"22462\" />22462<input type=\"hidden\" name=\"start_date_in\" value=\"08/27/2018\" /><input type=\"hidden\" name=\"end_date_in\" value=\"12/10/2018\" /></td>\\n<td CLASS=\"dddefault\"><input type=\"hidden\" name=\"SUBJ\" value=\"EAP\" />EAP</td>\\n<td CLASS=\"dddefault\"><input type=\"hidden\" name=\"CRSE\" value=\"6111\" />6111</td>\\n<td CLASS=\"dddefault\"><input type=\"hidden\" name=\"SEC\" value=\"O12\" />O12</td>\\n<td CLASS=\"dddefault\"><input type=\"hidden\" name=\"LEVL\" value=\"Graduate\" />Graduate</td>\\n<td CLASS=\"dddefault\"><input type=\"hidden\" name=\"CRED\" value=\"    3.000\" />    3.000</td>\\n<td CLASS=\"dddefault\"><input type=\"hidden\" name=\"GMOD\" value=\"Letter Grade\" />Letter Grade</td>\\n<td CLASS=\"dddefault\"><input type=\"hidden\" name=\"TITLE\" value=\"AcadWriting&Rsch/IntlGradStuII\" />AcadWriting&Rsch/IntlGradStuII</td>\\n</tr>\\n<tr>\\n<td CLASS=\"dddefault\"><input type=\"hidden\" name=\"MESG\" value=\"DUMMY\" />**Web Registered** on 08/13/18</td>\\n<TD CLASS=\"dddefault\">\\n<LABEL for=action_id3><SPAN class=\"fieldlabeltextinvisible\">Action</SPAN></LABEL>\\n<select name=\"RSTS_IN\" size=\"1\" ID=\"action_id3\">\\n<OPTION VALUE=\"\" SELECTED>None</OPTION>\\n<OPTION VALUE=\"WW\">*Web Withdrawal*</OPTION>\\n</select>\\n</TD>\\n<td CLASS=\"dddefault\"><input type=\"hidden\" name=\"assoc_term_in\" value=\"201803\" /><input type=\"hidden\" name=\"CRN_IN\" value=\"26528\" />26528<input type=\"hidden\" name=\"start_date_in\" value=\"08/27/2018\" /><input type=\"hidden\" name=\"end_date_in\" value=\"12/10/2018\" /></td>\\n<td CLASS=\"dddefault\"><input type=\"hidden\" name=\"SUBJ\" value=\"CSCI\" />CSCI</td>\\n<td CLASS=\"dddefault\"><input type=\"hidden\" name=\"CRSE\" value=\"6221\" />6221</td>\\n<td CLASS=\"dddefault\"><input type=\"hidden\" name=\"SEC\" value=\"17\" />17</td>\\n<td CLASS=\"dddefault\"><input type=\"hidden\" name=\"LEVL\" value=\"Graduate\" />Graduate</td>\\n<td CLASS=\"dddefault\"><input type=\"hidden\" name=\"CRED\" value=\"    3.000\" />    3.000</td>\\n<td CLASS=\"dddefault\"><input type=\"hidden\" name=\"GMOD\" value=\"Letter Grade\" />Letter Grade</td>\\n<td CLASS=\"dddefault\"><input type=\"hidden\" name=\"TITLE\" value=\"Advanced Software Paradigms\" />Advanced Software Paradigms</td>\\n</tr>\\n<tr>\\n<td CLASS=\"dddefault\"><input type=\"hidden\" name=\"MESG\" value=\"DUMMY\" />**Web Registered** on 08/21/18</td>\\n<TD CLASS=\"dddefault\">\\n<LABEL for=action_id4><SPAN class=\"fieldlabeltextinvisible\">Action</SPAN></LABEL>\\n<select name=\"RSTS_IN\" size=\"1\" ID=\"action_id4\">\\n<OPTION VALUE=\"\" SELECTED>None</OPTION>\\n<OPTION VALUE=\"WW\">*Web Withdrawal*</OPTION>\\n</select>\\n</TD>\\n<td CLASS=\"dddefault\"><input type=\"hidden\" name=\"assoc_term_in\" value=\"201803\" /><input type=\"hidden\" name=\"CRN_IN\" value=\"26804\" />26804<input type=\"hidden\" name=\"start_date_in\" value=\"08/27/2018\" /><input type=\"hidden\" name=\"end_date_in\" value=\"12/10/2018\" /></td>\\n<td CLASS=\"dddefault\"><input type=\"hidden\" name=\"SUBJ\" value=\"CSCI\" />CSCI</td>\\n<td CLASS=\"dddefault\"><input type=\"hidden\" name=\"CRSE\" value=\"6011\" />6011</td>\\n<td CLASS=\"dddefault\"><input type=\"hidden\" name=\"SEC\" value=\"11\" />11</td>\\n<td CLASS=\"dddefault\"><input type=\"hidden\" name=\"LEVL\" value=\"Graduate\" />Graduate</td>\\n<td CLASS=\"dddefault\"><input type=\"hidden\" name=\"CRED\" value=\"    3.000\" />    3.000</td>\\n<td CLASS=\"dddefault\"><input type=\"hidden\" name=\"GMOD\" value=\"Letter Grade\" />Letter Grade</td>\\n<td CLASS=\"dddefault\"><input type=\"hidden\" name=\"TITLE\" value=\"Intro to Computer Systems\" />Intro to Computer Systems</td>\\n</tr>\\n</table>\\n<br />\\n<table  CLASS=\"plaintable\" SUMMARY=\"Schedule Summary\">\\n<tr>\\n<td CLASS=\"pldefault\">Total Credit Hours: </td>\\n<td CLASS=\"pldefault\">   12.000</td>\\n</tr>\\n<tr>\\n<td CLASS=\"pldefault\">Billing Hours:</td>\\n<td CLASS=\"pldefault\">   12.000</td>\\n</tr>\\n<tr>\\n<td CLASS=\"pldefault\">Minimum Hours:</td>\\n<td CLASS=\"pldefault\">      0.000</td>\\n</tr>\\n<tr>\\n<td CLASS=\"pldefault\">Maximum Hours:</td>\\n<td CLASS=\"pldefault\">    999.000</td>\\n</tr>\\n<tr>\\n<td CLASS=\"pldefault\">Date:</td>\\n<td CLASS=\"pldefault\">10/29/18 03:16 am</td>\\n</tr>\\n</table>\\n<br />\\n<input type=\"hidden\" name=\"regs_row\" value=\"4\" />\\n<input type=\"hidden\" name=\"wait_row\" value=\"0\" />\\n<input type=\"hidden\" name=\"add_row\" value=\"10\" />\\n\\n<br />\\n<input type=\"submit\" name=\"REG_BTN\" value=\"Submit Changes\" />\\n<input type=\"reset\" VALUE=\"Reset\" />\\n</form>\\n<form action=\"http://www.bkstr.com/webapp/wcs/stores/servlet/OnlineRegistrationServlet\" method=\"post\" target=\"_new\">\\n<input type=\"hidden\" name=\"merfnbr\" value=\"122\" />\\n<input type=\"hidden\" name=\"termDir\" value=\"201803\" />\\n<input type=\"hidden\" name=\"division1\" value=\"\" />\\n<input type=\"hidden\" name=\"department1\" value=\"EAP\" />\\n<input type=\"hidden\" name=\"course1\" value=\"6111\" />\\n<input type=\"hidden\" name=\"section1\" value=\"O12\" />\\n<input type=\"hidden\" name=\"division2\" value=\"\" />\\n<input type=\"hidden\" name=\"department2\" value=\"CSCI\" />\\n<input type=\"hidden\" name=\"course2\" value=\"6221\" />\\n<input type=\"hidden\" name=\"section2\" value=\"17\" />\\n<input type=\"hidden\" name=\"division3\" value=\"\" />\\n<input type=\"hidden\" name=\"department3\" value=\"CSCI\" />\\n<input type=\"hidden\" name=\"course3\" value=\"6011\" />\\n<input type=\"hidden\" name=\"section3\" value=\"11\" />\\n<input type=\"hidden\" name=\"division4\" value=\"\" />\\n<input type=\"hidden\" name=\"department4\" value=\"CSCI\" />\\n<input type=\"hidden\" name=\"course4\" value=\"6010\" />\\n<input type=\"hidden\" name=\"section4\" value=\"12\" />\\n<input type=\"submit\" value=\"Purchase Books at the GW Bookstore - Optional\" />\\n</form>\\n<form action=\"/PRODCartridge/twbkwbis.P_GenMenu?name=bmenu.P_SAMenu\" method=\"post\">\\n<input type=\"submit\" value=\"View My Account Balance/Add Authorized Users - Optional\" />\\n</form>\\n\\r\\n<!--  ** START OF twbkwbis.P_CloseDoc **  -->\\n<table  CLASS=\"plaintable\" SUMMARY=\"This is table displays line separator at end of the page.\"\\n                                             WIDTH=\"100%\" cellSpacing=0 cellPadding=0 border=0><tr><TD class=\"bgtabon\" width=\"100%\" colSpan=2><img src=\"/wtlgifs/web_transparent.gif\" alt=\"Transparent Image\" CLASS=\"headerImg\" TITLE=\"Transparent Image\"  NAME=\"web_transparent\" HSPACE=0 VSPACE=0 BORDER=0 HEIGHT=3 WIDTH=10 /></TD></tr></table>\\n<a href=\"#top\" onMouseover=\"window.status=\\'Skip to top of page\\'; return true\" onMouseout=\"window.status=\\'\\'; return true\" OnFocus=\"window.status=\\'Skip to top of page\\'; return true\" onBlur=\"window.status=\\'\\'; return true\" class=\"skiplinks\">Skip to top of page</a>\\n</DIV>\\n<div class=\"footerbeforediv\">\\n\\n</DIV>\\n<div class=\"footerlinksdiv\">\\n<SPAN class=\"pagefooterlinks\">\\n<map name=\"Banner_Secured_Area_Links_F\" title=\"Banner Secured Area Links\">\\n<p>\\n<a href=\"#skip_Banner_Secured_Area_Links_F\" onMouseover=\"window.status=\\'Skip Banner Secured Area Links\\'; return true\" onMouseout=\"window.status=\\'\\'; return true\" onFocus=\"window.status=\\'Skip Banner Secured Area Links\\'; return true\" onBlur=\"window.status=\\'\\'; return true\"  class=\"skiplinks\">Skip Banner Secured Area Links</a>\\n<P>[ <a href=\"/PRODCartridge/bwskoacc.P_ViewHold\">View Holds</a>\\n | <a href=\"http://my.gwu.edu\"><IMG SRC=\\'/imag_images/spacer.gif\\' ALT=\\'\\' BORDER=\\'0\\' HEIGHT=\\'1\\' WIDTH=\\'1\\' onload=\\'regAddErrors();\\'></a>\\n ]\\n</map>\\n</SPAN>\\n<a name=\"skip_Banner_Secured_Area_Links_F\"></a>\\n</DIV>\\n<div class=\"footerafterdiv\">\\n\\n</DIV>\\n<div class=\"globalafterdiv\">\\n\\n</DIV>\\n<div class=\"globalfooterdiv\">\\n\\n</DIV>\\n<div class=\"pagefooterdiv\">\\n<SPAN class=\"releasetext\">Release: 8.7.1</SPAN>\\n</DIV>\\n<div class=\"poweredbydiv\">\\n</DIV>\\n<DIV class=\"div1\"></DIV>\\n<DIV class=\"div2\"></DIV>\\n<DIV class=\"div3\"></DIV>\\n<DIV class=\"div4\"></DIV>\\n<DIV class=\"div5\"></DIV>\\n<DIV class=\"div6\"></DIV>\\n<div class=\"banner_copyright\"></div>\\n</body>\\n</html>\\n'\n"
     ]
    }
   ],
   "source": [
    "print(l.content)"
   ]
  },
  {
   "cell_type": "code",
   "execution_count": 20,
   "metadata": {},
   "outputs": [],
   "source": [
    "from bs4 import BeautifulSoup\n",
    "import re"
   ]
  },
  {
   "cell_type": "code",
   "execution_count": 21,
   "metadata": {},
   "outputs": [],
   "source": [
    "soup=BeautifulSoup(l.content,\"lxml\")"
   ]
  },
  {
   "cell_type": "code",
   "execution_count": 22,
   "metadata": {},
   "outputs": [
    {
     "data": {
      "text/plain": [
       "<!DOCTYPE HTML PUBLIC \"-//W3C//DTD HTML 4.01 Transitional//EN\" \"http://www.w3.org/TR/html4/transitional.dtd\">\n",
       "<html lang=\"en\">\n",
       "<head>\n",
       "<meta content=\"text/html; charset=utf-8\" http-equiv=\"Content-Type\"/>\n",
       "<link href=\"/css/web_defaultapp.css\" rel=\"stylesheet\" type=\"text/css\"/>\n",
       "<link href=\"/css/web_defaultprint.css\" media=\"print\" rel=\"stylesheet\" type=\"text/css\"/>\n",
       "<title>Banner Secured Area</title>\n",
       "<meta content=\"text/javascript\" http-equiv=\"Content-Script-Type\" name=\"Default_Script_Language\"/>\n",
       "<script language=\"JavaScript\" type=\"text/javascript\">\n",
       "<!-- Hide JavaScript from older browsers \n",
       "window.onunload = function() {submitcount=0;}\n",
       "var submitcount=0;\n",
       "function checkSubmit() {\n",
       "if (submitcount == 0)\n",
       "   {\n",
       "   submitcount++;\n",
       "   return true;\n",
       "   }\n",
       "else\n",
       "   {\n",
       "alert(\"Your changes have already been submitted.\");\n",
       "   return false;\n",
       "   }\n",
       "}\n",
       "//  End script hiding -->\n",
       "</script>\n",
       "<script language=\"JavaScript\" type=\"text/javascript\">\n",
       "<!-- Hide JavaScript from older browsers \n",
       "//  Function to open a window\n",
       "function windowOpen(window_url) {\n",
       "   helpWin = window.open(window_url,'','toolbar=yes,status=no,scrollbars=yes,menubar=yes,resizable=yes,directories=no,location=no,width=350,height=400');\n",
       "   if (document.images) { \n",
       "       if (helpWin) helpWin.focus()\n",
       "   }\n",
       "}\n",
       "//  End script hiding -->\n",
       "</script>\n",
       "</head>\n",
       "<body>\n",
       "<div id=\"headerImage\">\n",
       "<img border=\"0\" class=\"headerImg\" hspace=\"0\" name=\"IMAG - GWeb Information System\" src=\"/imag_images/gweb_is_2.gif\" title=\"\" vspace=\"0\"/>\n",
       "</div>\n",
       "<div class=\"headerwrapperdiv\">\n",
       "<div class=\"pageheaderdiv1\">\n",
       "<a class=\"skiplinks\" href=\"#main_content\" onblur=\"window.status=''; return true\" onfocus=\"window.status='Go to Main Content'; return true\" onmouseout=\"window.status=''; return true\" onmouseover=\"window.status='Go to Main Content'; return true\">Go to Main Content</a>\n",
       "<h1> </h1></div><div class=\"headerlinksdiv\">\n",
       "<span class=\"pageheaderlinks2\">\n",
       "<map name=\"Module_Navigation_Links_H\" title=\"Module Navigation Links\">\n",
       "<p>\n",
       "<a class=\"skiplinks\" href=\"#skip_Module_Navigation_Links_H\" onblur=\"window.status=''; return true\" onfocus=\"window.status='Skip Module Navigation Links'; return true\" onmouseout=\"window.status=''; return true\" onmouseover=\"window.status='Skip Module Navigation Links'; return true\">Skip Module Navigation Links</a>\n",
       "</p><table border=\"0\" cellpadding=\"0\" cellspacing=\"0\" class=\"plaintable\" summary=\"This is main table for displaying Tab Items.\" width=\"100%\">\n",
       "<tr>\n",
       "<td class=\"pldefault\">\n",
       "<table border=\"0\" cellpadding=\"0\" cellspacing=\"0\" class=\"plaintable\" summary=\"This table displays Tab Items.\">\n",
       "<tr>\n",
       "<td class=\"tabon\" height=\"22\">\n",
       "<a href=\"/PRODCartridge/twbkwbis.P_GenMenu?name=bmenu.P_StuMainMnu\" onblur=\"window.status=''; return true\" onfocus=\"window.status='Student Services &amp; Financial Aid'; return true\" onmouseout=\"window.status=''; return true\" onmouseover=\"window.status='Student Services &amp; Financial Aid'; return true\">Student Records &amp; Registration Menu</a>\n",
       "</td>\n",
       "<td align=\"right\" class=\"bgtabon\" height=\"22\" valign=\"top\">\n",
       "<img alt=\"Tab Corner Right\" border=\"0\" class=\"headerImg\" height=\"20\" hspace=\"0\" name=\"web_tab_corner_right\" src=\"/wtlgifs/web_tab_corner_right.gif\" title=\"Tab Corner Right\" vspace=\"0\" width=\"8\"/>\n",
       "</td>\n",
       "<td class=\"taboff\" height=\"22\">\n",
       "<a href=\"/PRODCartridge/twbkwbis.P_GenMenu?name=bmenu.P_GenMnu\" onblur=\"window.status=''; return true\" onfocus=\"window.status='Personal Information'; return true\" onmouseout=\"window.status=''; return true\" onmouseover=\"window.status='Personal Information'; return true\">Personal Information Menu</a>\n",
       "</td>\n",
       "<td align=\"right\" class=\"bgtaboff\" height=\"22\" valign=\"top\">\n",
       "<img alt=\"Tab Corner Right\" border=\"0\" class=\"headerImg\" height=\"20\" hspace=\"0\" name=\"web_tab_corner_right\" src=\"/wtlgifs/web_tab_corner_right.gif\" title=\"Tab Corner Right\" vspace=\"0\" width=\"8\"/>\n",
       "</td>\n",
       "<td class=\"taboff\" height=\"22\">\n",
       "<a href=\"/PRODCartridge/twbkwbis.P_GenMenu?name=bmenu.P_EmergencyMenu\" onblur=\"window.status=''; return true\" onfocus=\"window.status='GW Alert Emergency Notification'; return true\" onmouseout=\"window.status=''; return true\" onmouseover=\"window.status='GW Alert Emergency Notification'; return true\">GW Alert Login Portal</a>\n",
       "</td>\n",
       "<td align=\"right\" class=\"bgtaboff\" height=\"22\" valign=\"top\">\n",
       "<img alt=\"Tab Corner Right\" border=\"0\" class=\"headerImg\" height=\"20\" hspace=\"0\" name=\"web_tab_corner_right\" src=\"/wtlgifs/web_tab_corner_right.gif\" title=\"Tab Corner Right\" vspace=\"0\" width=\"8\"/>\n",
       "</td>\n",
       "</tr>\n",
       "</table>\n",
       "</td>\n",
       "</tr>\n",
       "<tr>\n",
       "<td class=\"bgtabon\" colspan=\"2\" width=\"100%\"><img alt=\"Transparent Image\" border=\"0\" class=\"headerImg\" height=\"3\" hspace=\"0\" name=\"web_transparent\" src=\"/wtlgifs/web_transparent.gif\" title=\"Transparent Image\" vspace=\"0\" width=\"10\"/></td></tr></table>\n",
       "</map>\n",
       "</span>\n",
       "<a name=\"skip_Module_Navigation_Links_H\"></a>\n",
       "</div>\n",
       "<table class=\"plaintable\" summary=\"This table displays Menu Items and Banner Search textbox.\" width=\"100%\">\n",
       "<tr>\n",
       "<td class=\"pldefault\">\n",
       "<div class=\"headerlinksdiv2\">\n",
       "<form action=\"/PRODCartridge/twbksrch.P_ShowResults\" method=\"post\">\n",
       "Search\n",
       "<span class=\"fieldlabeltextinvisible\"><label for=\"keyword_in_id\"><span class=\"fieldlabeltext\">Search</span></label></span>\n",
       "<input id=\"keyword_in_id\" maxlength=\"65\" name=\"KEYWRD_IN\" size=\"20\" type=\"text\"/>\n",
       "<input type=\"submit\" value=\"Go\"/>\n",
       "</form>\n",
       "</div>\n",
       "</td>\n",
       "<td class=\"pldefault\"><p class=\"rightaligntext\"></p>\n",
       "<span class=\"pageheaderlinks\">\n",
       "<a class=\"submenulinktext2\" href=\"/PRODCartridge/twbkwbis.P_GenMenu?name=bmenu.P_RegMnu\" id=\"ssbbackurl\">RETURN TO MENU</a>\n",
       "|\n",
       "<a accesskey=\"2\" class=\"submenulinktext2\" href=\"/PRODCartridge/twbksite.P_DispSiteMap?menu_name_in=bmenu.P_MainMnu&amp;depth_in=2&amp;columns_in=3\">SITE MAP</a>\n",
       "|\n",
       "<a accesskey=\"H\" class=\"submenulinktext2\" href=\"/stuhelp/hwshfadd.htm                       \" onblur=\"window.status=''; return true\" onclick=\"popup = window.open('/stuhelp/hwshfadd.htm                       ', 'PopupPage','height=500,width=450,scrollbars=yes,resizable=yes'); return false\" onfocus=\"window.status='';  return true\" onmouseout=\"window.status=''; return true\" onmouseover=\"window.status='';  return true\" target=\"_blank\">HELP</a>\n",
       "|\n",
       "<a accesskey=\"3\" class=\"submenulinktext2\" href=\"twbkwbis.P_Logout\">EXIT</a>\n",
       "</span>\n",
       "</td>\n",
       "</tr>\n",
       "</table>\n",
       "</div>\n",
       "<div class=\"pagetitlediv\">\n",
       "<table class=\"plaintable\" summary=\"This table displays title and static header displays.\" width=\"100%\">\n",
       "<tr>\n",
       "<td class=\"pldefault\">\n",
       "<h2><b class=\"imag_header\">Add/Drop Classes: </b></h2>\n",
       "</td>\n",
       "<td class=\"pldefault\">\n",
       " \n",
       "</td>\n",
       "<td class=\"pldefault\"><p class=\"rightaligntext\"></p>\n",
       "<div class=\"staticheaders\">\n",
       "Fall 2018<br/>\n",
       "10/29/18 03:16 am<br/>\n",
       "</div>\n",
       "</td>\n",
       "</tr>\n",
       "<tr>\n",
       "<td class=\"bg3\" colspan=\"3\" width=\"100%\"><img alt=\"Transparent Image\" border=\"0\" class=\"headerImg\" height=\"3\" hspace=\"0\" name=\"web_transparent\" src=\"/wtlgifs/web_transparent.gif\" title=\"Transparent Image\" vspace=\"0\" width=\"10\"/></td>\n",
       "</tr>\n",
       "</table>\n",
       "<a name=\"main_content\"></a>\n",
       "</div>\n",
       "<div class=\"pagebodydiv\">\n",
       "<!--  ** END OF twbkwbis.P_OpenDoc **  -->\n",
       "<br/>\n",
       "<form action=\"/PRODCartridge/bwckcoms.P_Regs\" method=\"post\" onsubmit=\"return checkSubmit()\">\n",
       "<div class=\"infotextdiv\"><table class=\"infotexttable\" summary=\"This layout table contains information that may be helpful in understanding the content and functionality of this page.  It could be a brief set of instructions, a description of error messages, or other special information.\"><tr><td class=\"indefault\"><img border=\"0\" class=\"headerImg\" height=\"24\" hspace=\"0\" name=\"Info\" src=\"/wtlgifs/twgginfo.gif\" title=\"\" vspace=\"0\" width=\"27\"/></td><td class=\"indefault\"><span class=\"infotext\"> <p><i>This page is used to add or drop classes for the selected term. If you have already registered for the term those classes will appear in the Current Schedule section. Additional classes may be added in the Add Class table. To add a class enter the Course Reference Number (CRN) in the Add Class table. Classes may be dropped by using the options available in the Action field. If no options are listed in the Action field then the class may not be dropped. When add/drops are complete press the Submit Changes button.</i></p>\n",
       "<p><i>If you are unsure of which classes you wish to add press the Class Search button to review the class schedule.</i></p>\n",
       "<b></b><p>There is a financial penalty for dropping a course starting the first day of the semester, unless you also register for an equal or greater number of credits or if you still qualify for a fixed tuition rate.</p>\n",
       "<p><b>Please note that DROPPING a class will remove it from your registration and transcript, while WITHDRAWING from a class will result in a 'W' on your transcript. There is no refund for withdrawing from a class.</b></p>\n",
       "<!--Use this interface to add or drop classes for the selected term.  If you have already registered for the term, those classes will appear in the Class Registered Successfully section. Additional classes may be added in the Add Class table.--> <!--To add a class enter the Course Reference Number (CRN) in the Add Class table. Classes may be dropped by using the options available in the Action field.  If no options are listed in the Action field then the class may not be dropped.--> <!--When add/drops are complete click Submit Changes.<p>If you are unsure of which classes to add, click Class Search to review the class schedule.--> <script src=\"/gwuscripts/waitlistRegAddError\"></script></span></td></tr></table><p></p></div>\n",
       "<input name=\"term_in\" type=\"hidden\" value=\"201803\"/>\n",
       "<input name=\"RSTS_IN\" type=\"hidden\" value=\"DUMMY\"/>\n",
       "<input name=\"assoc_term_in\" type=\"hidden\" value=\"DUMMY\"/>\n",
       "<input name=\"CRN_IN\" type=\"hidden\" value=\"DUMMY\"/>\n",
       "<input name=\"start_date_in\" type=\"hidden\" value=\"DUMMY\"/>\n",
       "<input name=\"end_date_in\" type=\"hidden\" value=\"DUMMY\"/>\n",
       "<input name=\"SUBJ\" type=\"hidden\" value=\"DUMMY\"/>\n",
       "<input name=\"CRSE\" type=\"hidden\" value=\"DUMMY\"/>\n",
       "<input name=\"SEC\" type=\"hidden\" value=\"DUMMY\"/>\n",
       "<input name=\"LEVL\" type=\"hidden\" value=\"DUMMY\"/>\n",
       "<input name=\"CRED\" type=\"hidden\" value=\"DUMMY\"/>\n",
       "<input name=\"GMOD\" type=\"hidden\" value=\"DUMMY\"/>\n",
       "<input name=\"TITLE\" type=\"hidden\" value=\"DUMMY\"/>\n",
       "<input name=\"MESG\" type=\"hidden\" value=\"DUMMY\"/>\n",
       "<input name=\"REG_BTN\" type=\"hidden\" value=\"DUMMY\"/>\n",
       "<h3>Current Schedule</h3>\n",
       "<table class=\"datadisplaytable\" summary=\"Current Schedule\">\n",
       "<tr>\n",
       "<th class=\"ddheader\" scope=\"col\">Status</th>\n",
       "<th class=\"ddheader\" scope=\"col\">Action</th>\n",
       "<th class=\"ddheader\" scope=\"col\"><acronym title=\"Course Reference Number\">CRN</acronym></th>\n",
       "<th class=\"ddheader\" scope=\"col\"><abbr title=\"Subject\">Subj</abbr></th>\n",
       "<th class=\"ddheader\" scope=\"col\"><abbr title=\"Course\">Crse</abbr></th>\n",
       "<th class=\"ddheader\" scope=\"col\"><abbr title=\"Section\">Sec</abbr></th>\n",
       "<th class=\"ddheader\" scope=\"col\">Level</th>\n",
       "<th class=\"ddheader\" scope=\"col\"><abbr title=\"Credit Hours\">Cred</abbr></th>\n",
       "<th class=\"ddheader\" scope=\"col\">Grade Mode</th>\n",
       "<th class=\"ddheader\" scope=\"col\">Title</th>\n",
       "</tr>\n",
       "<tr>\n",
       "<td class=\"dddefault\"><input name=\"MESG\" type=\"hidden\" value=\"DUMMY\"/>**Web Registered** on 07/15/18</td>\n",
       "<td class=\"dddefault\">\n",
       "<label for=\"action_id1\"><span class=\"fieldlabeltextinvisible\">Action</span></label>\n",
       "<select id=\"action_id1\" name=\"RSTS_IN\" size=\"1\">\n",
       "<option selected=\"\" value=\"\">None</option>\n",
       "<option value=\"WW\">*Web Withdrawal*</option>\n",
       "</select>\n",
       "</td>\n",
       "<td class=\"dddefault\"><input name=\"assoc_term_in\" type=\"hidden\" value=\"201803\"/><input name=\"CRN_IN\" type=\"hidden\" value=\"26828\"/>26828<input name=\"start_date_in\" type=\"hidden\" value=\"08/27/2018\"/><input name=\"end_date_in\" type=\"hidden\" value=\"12/10/2018\"/></td>\n",
       "<td class=\"dddefault\"><input name=\"SUBJ\" type=\"hidden\" value=\"CSCI\"/>CSCI</td>\n",
       "<td class=\"dddefault\"><input name=\"CRSE\" type=\"hidden\" value=\"6010\"/>6010</td>\n",
       "<td class=\"dddefault\"><input name=\"SEC\" type=\"hidden\" value=\"12\"/>12</td>\n",
       "<td class=\"dddefault\"><input name=\"LEVL\" type=\"hidden\" value=\"Graduate\"/>Graduate</td>\n",
       "<td class=\"dddefault\"><input name=\"CRED\" type=\"hidden\" value=\"    3.000\"/>    3.000</td>\n",
       "<td class=\"dddefault\"><input name=\"GMOD\" type=\"hidden\" value=\"Letter Grade\"/>Letter Grade</td>\n",
       "<td class=\"dddefault\"><input name=\"TITLE\" type=\"hidden\" value=\"Intro to CS Fundamentals\"/>Intro to CS Fundamentals</td>\n",
       "</tr>\n",
       "<tr>\n",
       "<td class=\"dddefault\"><input name=\"MESG\" type=\"hidden\" value=\"DUMMY\"/>**Web Registered** on 07/15/18</td>\n",
       "<td class=\"dddefault\">\n",
       "<label for=\"action_id2\"><span class=\"fieldlabeltextinvisible\">Action</span></label>\n",
       "<select id=\"action_id2\" name=\"RSTS_IN\" size=\"1\">\n",
       "<option selected=\"\" value=\"\">None</option>\n",
       "<option value=\"WW\">*Web Withdrawal*</option>\n",
       "</select>\n",
       "</td>\n",
       "<td class=\"dddefault\"><input name=\"assoc_term_in\" type=\"hidden\" value=\"201803\"/><input name=\"CRN_IN\" type=\"hidden\" value=\"22462\"/>22462<input name=\"start_date_in\" type=\"hidden\" value=\"08/27/2018\"/><input name=\"end_date_in\" type=\"hidden\" value=\"12/10/2018\"/></td>\n",
       "<td class=\"dddefault\"><input name=\"SUBJ\" type=\"hidden\" value=\"EAP\"/>EAP</td>\n",
       "<td class=\"dddefault\"><input name=\"CRSE\" type=\"hidden\" value=\"6111\"/>6111</td>\n",
       "<td class=\"dddefault\"><input name=\"SEC\" type=\"hidden\" value=\"O12\"/>O12</td>\n",
       "<td class=\"dddefault\"><input name=\"LEVL\" type=\"hidden\" value=\"Graduate\"/>Graduate</td>\n",
       "<td class=\"dddefault\"><input name=\"CRED\" type=\"hidden\" value=\"    3.000\"/>    3.000</td>\n",
       "<td class=\"dddefault\"><input name=\"GMOD\" type=\"hidden\" value=\"Letter Grade\"/>Letter Grade</td>\n",
       "<td class=\"dddefault\"><input name=\"TITLE\" type=\"hidden\" value=\"AcadWriting&amp;Rsch/IntlGradStuII\"/>AcadWriting&amp;Rsch/IntlGradStuII</td>\n",
       "</tr>\n",
       "<tr>\n",
       "<td class=\"dddefault\"><input name=\"MESG\" type=\"hidden\" value=\"DUMMY\"/>**Web Registered** on 08/13/18</td>\n",
       "<td class=\"dddefault\">\n",
       "<label for=\"action_id3\"><span class=\"fieldlabeltextinvisible\">Action</span></label>\n",
       "<select id=\"action_id3\" name=\"RSTS_IN\" size=\"1\">\n",
       "<option selected=\"\" value=\"\">None</option>\n",
       "<option value=\"WW\">*Web Withdrawal*</option>\n",
       "</select>\n",
       "</td>\n",
       "<td class=\"dddefault\"><input name=\"assoc_term_in\" type=\"hidden\" value=\"201803\"/><input name=\"CRN_IN\" type=\"hidden\" value=\"26528\"/>26528<input name=\"start_date_in\" type=\"hidden\" value=\"08/27/2018\"/><input name=\"end_date_in\" type=\"hidden\" value=\"12/10/2018\"/></td>\n",
       "<td class=\"dddefault\"><input name=\"SUBJ\" type=\"hidden\" value=\"CSCI\"/>CSCI</td>\n",
       "<td class=\"dddefault\"><input name=\"CRSE\" type=\"hidden\" value=\"6221\"/>6221</td>\n",
       "<td class=\"dddefault\"><input name=\"SEC\" type=\"hidden\" value=\"17\"/>17</td>\n",
       "<td class=\"dddefault\"><input name=\"LEVL\" type=\"hidden\" value=\"Graduate\"/>Graduate</td>\n",
       "<td class=\"dddefault\"><input name=\"CRED\" type=\"hidden\" value=\"    3.000\"/>    3.000</td>\n",
       "<td class=\"dddefault\"><input name=\"GMOD\" type=\"hidden\" value=\"Letter Grade\"/>Letter Grade</td>\n",
       "<td class=\"dddefault\"><input name=\"TITLE\" type=\"hidden\" value=\"Advanced Software Paradigms\"/>Advanced Software Paradigms</td>\n",
       "</tr>\n",
       "<tr>\n",
       "<td class=\"dddefault\"><input name=\"MESG\" type=\"hidden\" value=\"DUMMY\"/>**Web Registered** on 08/21/18</td>\n",
       "<td class=\"dddefault\">\n",
       "<label for=\"action_id4\"><span class=\"fieldlabeltextinvisible\">Action</span></label>\n",
       "<select id=\"action_id4\" name=\"RSTS_IN\" size=\"1\">\n",
       "<option selected=\"\" value=\"\">None</option>\n",
       "<option value=\"WW\">*Web Withdrawal*</option>\n",
       "</select>\n",
       "</td>\n",
       "<td class=\"dddefault\"><input name=\"assoc_term_in\" type=\"hidden\" value=\"201803\"/><input name=\"CRN_IN\" type=\"hidden\" value=\"26804\"/>26804<input name=\"start_date_in\" type=\"hidden\" value=\"08/27/2018\"/><input name=\"end_date_in\" type=\"hidden\" value=\"12/10/2018\"/></td>\n",
       "<td class=\"dddefault\"><input name=\"SUBJ\" type=\"hidden\" value=\"CSCI\"/>CSCI</td>\n",
       "<td class=\"dddefault\"><input name=\"CRSE\" type=\"hidden\" value=\"6011\"/>6011</td>\n",
       "<td class=\"dddefault\"><input name=\"SEC\" type=\"hidden\" value=\"11\"/>11</td>\n",
       "<td class=\"dddefault\"><input name=\"LEVL\" type=\"hidden\" value=\"Graduate\"/>Graduate</td>\n",
       "<td class=\"dddefault\"><input name=\"CRED\" type=\"hidden\" value=\"    3.000\"/>    3.000</td>\n",
       "<td class=\"dddefault\"><input name=\"GMOD\" type=\"hidden\" value=\"Letter Grade\"/>Letter Grade</td>\n",
       "<td class=\"dddefault\"><input name=\"TITLE\" type=\"hidden\" value=\"Intro to Computer Systems\"/>Intro to Computer Systems</td>\n",
       "</tr>\n",
       "</table>\n",
       "<br/>\n",
       "<table class=\"plaintable\" summary=\"Schedule Summary\">\n",
       "<tr>\n",
       "<td class=\"pldefault\">Total Credit Hours: </td>\n",
       "<td class=\"pldefault\">   12.000</td>\n",
       "</tr>\n",
       "<tr>\n",
       "<td class=\"pldefault\">Billing Hours:</td>\n",
       "<td class=\"pldefault\">   12.000</td>\n",
       "</tr>\n",
       "<tr>\n",
       "<td class=\"pldefault\">Minimum Hours:</td>\n",
       "<td class=\"pldefault\">      0.000</td>\n",
       "</tr>\n",
       "<tr>\n",
       "<td class=\"pldefault\">Maximum Hours:</td>\n",
       "<td class=\"pldefault\">    999.000</td>\n",
       "</tr>\n",
       "<tr>\n",
       "<td class=\"pldefault\">Date:</td>\n",
       "<td class=\"pldefault\">10/29/18 03:16 am</td>\n",
       "</tr>\n",
       "</table>\n",
       "<br/>\n",
       "<input name=\"regs_row\" type=\"hidden\" value=\"4\"/>\n",
       "<input name=\"wait_row\" type=\"hidden\" value=\"0\"/>\n",
       "<input name=\"add_row\" type=\"hidden\" value=\"10\"/>\n",
       "<br/>\n",
       "<input name=\"REG_BTN\" type=\"submit\" value=\"Submit Changes\"/>\n",
       "<input type=\"reset\" value=\"Reset\"/>\n",
       "</form>\n",
       "<form action=\"http://www.bkstr.com/webapp/wcs/stores/servlet/OnlineRegistrationServlet\" method=\"post\" target=\"_new\">\n",
       "<input name=\"merfnbr\" type=\"hidden\" value=\"122\"/>\n",
       "<input name=\"termDir\" type=\"hidden\" value=\"201803\"/>\n",
       "<input name=\"division1\" type=\"hidden\" value=\"\"/>\n",
       "<input name=\"department1\" type=\"hidden\" value=\"EAP\"/>\n",
       "<input name=\"course1\" type=\"hidden\" value=\"6111\"/>\n",
       "<input name=\"section1\" type=\"hidden\" value=\"O12\"/>\n",
       "<input name=\"division2\" type=\"hidden\" value=\"\"/>\n",
       "<input name=\"department2\" type=\"hidden\" value=\"CSCI\"/>\n",
       "<input name=\"course2\" type=\"hidden\" value=\"6221\"/>\n",
       "<input name=\"section2\" type=\"hidden\" value=\"17\"/>\n",
       "<input name=\"division3\" type=\"hidden\" value=\"\"/>\n",
       "<input name=\"department3\" type=\"hidden\" value=\"CSCI\"/>\n",
       "<input name=\"course3\" type=\"hidden\" value=\"6011\"/>\n",
       "<input name=\"section3\" type=\"hidden\" value=\"11\"/>\n",
       "<input name=\"division4\" type=\"hidden\" value=\"\"/>\n",
       "<input name=\"department4\" type=\"hidden\" value=\"CSCI\"/>\n",
       "<input name=\"course4\" type=\"hidden\" value=\"6010\"/>\n",
       "<input name=\"section4\" type=\"hidden\" value=\"12\"/>\n",
       "<input type=\"submit\" value=\"Purchase Books at the GW Bookstore - Optional\"/>\n",
       "</form>\n",
       "<form action=\"/PRODCartridge/twbkwbis.P_GenMenu?name=bmenu.P_SAMenu\" method=\"post\">\n",
       "<input type=\"submit\" value=\"View My Account Balance/Add Authorized Users - Optional\"/>\n",
       "</form>\n",
       "<!--  ** START OF twbkwbis.P_CloseDoc **  -->\n",
       "<table border=\"0\" cellpadding=\"0\" cellspacing=\"0\" class=\"plaintable\" summary=\"This is table displays line separator at end of the page.\" width=\"100%\"><tr><td class=\"bgtabon\" colspan=\"2\" width=\"100%\"><img alt=\"Transparent Image\" border=\"0\" class=\"headerImg\" height=\"3\" hspace=\"0\" name=\"web_transparent\" src=\"/wtlgifs/web_transparent.gif\" title=\"Transparent Image\" vspace=\"0\" width=\"10\"/></td></tr></table>\n",
       "<a class=\"skiplinks\" href=\"#top\" onblur=\"window.status=''; return true\" onfocus=\"window.status='Skip to top of page'; return true\" onmouseout=\"window.status=''; return true\" onmouseover=\"window.status='Skip to top of page'; return true\">Skip to top of page</a>\n",
       "</div>\n",
       "<div class=\"footerbeforediv\">\n",
       "</div>\n",
       "<div class=\"footerlinksdiv\">\n",
       "<span class=\"pagefooterlinks\">\n",
       "<map name=\"Banner_Secured_Area_Links_F\" title=\"Banner Secured Area Links\">\n",
       "<p>\n",
       "<a class=\"skiplinks\" href=\"#skip_Banner_Secured_Area_Links_F\" onblur=\"window.status=''; return true\" onfocus=\"window.status='Skip Banner Secured Area Links'; return true\" onmouseout=\"window.status=''; return true\" onmouseover=\"window.status='Skip Banner Secured Area Links'; return true\">Skip Banner Secured Area Links</a>\n",
       "</p><p>[ <a href=\"/PRODCartridge/bwskoacc.P_ViewHold\">View Holds</a>\n",
       " | <a href=\"http://my.gwu.edu\"><img alt=\"\" border=\"0\" height=\"1\" onload=\"regAddErrors();\" src=\"/imag_images/spacer.gif\" width=\"1\"/></a>\n",
       " ]\n",
       "</p></map>\n",
       "</span>\n",
       "<a name=\"skip_Banner_Secured_Area_Links_F\"></a>\n",
       "</div>\n",
       "<div class=\"footerafterdiv\">\n",
       "</div>\n",
       "<div class=\"globalafterdiv\">\n",
       "</div>\n",
       "<div class=\"globalfooterdiv\">\n",
       "</div>\n",
       "<div class=\"pagefooterdiv\">\n",
       "<span class=\"releasetext\">Release: 8.7.1</span>\n",
       "</div>\n",
       "<div class=\"poweredbydiv\">\n",
       "</div>\n",
       "<div class=\"div1\"></div>\n",
       "<div class=\"div2\"></div>\n",
       "<div class=\"div3\"></div>\n",
       "<div class=\"div4\"></div>\n",
       "<div class=\"div5\"></div>\n",
       "<div class=\"div6\"></div>\n",
       "<div class=\"banner_copyright\"></div>\n",
       "</body>\n",
       "</html>"
      ]
     },
     "execution_count": 22,
     "metadata": {},
     "output_type": "execute_result"
    }
   ],
   "source": [
    "soup"
   ]
  },
  {
   "cell_type": "code",
   "execution_count": 23,
   "metadata": {},
   "outputs": [],
   "source": [
    "sss=soup.find_all('tr')"
   ]
  },
  {
   "cell_type": "code",
   "execution_count": 24,
   "metadata": {},
   "outputs": [],
   "source": [
    "xk=[]\n",
    "for ss in sss:\n",
    "    xk.append(ss)\n"
   ]
  },
  {
   "cell_type": "code",
   "execution_count": 25,
   "metadata": {},
   "outputs": [
    {
     "data": {
      "text/plain": [
       "<tr>\n",
       "<td class=\"dddefault\"><input name=\"MESG\" type=\"hidden\" value=\"DUMMY\"/>**Web Registered** on 07/15/18</td>\n",
       "<td class=\"dddefault\">\n",
       "<label for=\"action_id2\"><span class=\"fieldlabeltextinvisible\">Action</span></label>\n",
       "<select id=\"action_id2\" name=\"RSTS_IN\" size=\"1\">\n",
       "<option selected=\"\" value=\"\">None</option>\n",
       "<option value=\"WW\">*Web Withdrawal*</option>\n",
       "</select>\n",
       "</td>\n",
       "<td class=\"dddefault\"><input name=\"assoc_term_in\" type=\"hidden\" value=\"201803\"/><input name=\"CRN_IN\" type=\"hidden\" value=\"22462\"/>22462<input name=\"start_date_in\" type=\"hidden\" value=\"08/27/2018\"/><input name=\"end_date_in\" type=\"hidden\" value=\"12/10/2018\"/></td>\n",
       "<td class=\"dddefault\"><input name=\"SUBJ\" type=\"hidden\" value=\"EAP\"/>EAP</td>\n",
       "<td class=\"dddefault\"><input name=\"CRSE\" type=\"hidden\" value=\"6111\"/>6111</td>\n",
       "<td class=\"dddefault\"><input name=\"SEC\" type=\"hidden\" value=\"O12\"/>O12</td>\n",
       "<td class=\"dddefault\"><input name=\"LEVL\" type=\"hidden\" value=\"Graduate\"/>Graduate</td>\n",
       "<td class=\"dddefault\"><input name=\"CRED\" type=\"hidden\" value=\"    3.000\"/>    3.000</td>\n",
       "<td class=\"dddefault\"><input name=\"GMOD\" type=\"hidden\" value=\"Letter Grade\"/>Letter Grade</td>\n",
       "<td class=\"dddefault\"><input name=\"TITLE\" type=\"hidden\" value=\"AcadWriting&amp;Rsch/IntlGradStuII\"/>AcadWriting&amp;Rsch/IntlGradStuII</td>\n",
       "</tr>"
      ]
     },
     "execution_count": 25,
     "metadata": {},
     "output_type": "execute_result"
    }
   ],
   "source": [
    "xk[9]"
   ]
  },
  {
   "cell_type": "code",
   "execution_count": null,
   "metadata": {},
   "outputs": [],
   "source": []
  }
 ],
 "metadata": {
  "kernelspec": {
   "display_name": "Python 3",
   "language": "python",
   "name": "python3"
  },
  "language_info": {
   "codemirror_mode": {
    "name": "ipython",
    "version": 3
   },
   "file_extension": ".py",
   "mimetype": "text/x-python",
   "name": "python",
   "nbconvert_exporter": "python",
   "pygments_lexer": "ipython3",
   "version": "3.7.0"
  }
 },
 "nbformat": 4,
 "nbformat_minor": 2
}
